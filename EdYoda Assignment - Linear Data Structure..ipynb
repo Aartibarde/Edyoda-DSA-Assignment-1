{
 "cells": [
  {
   "cell_type": "code",
   "execution_count": null,
   "metadata": {},
   "outputs": [],
   "source": [
    "Q1. Write a program to find all pairs of an integer array whose sum is equal to a given number?"
   ]
  },
  {
   "cell_type": "code",
   "execution_count": null,
   "metadata": {},
   "outputs": [],
   "source": [
    "def find(array, len, summ):\n",
    "    print(\"Pairs whose sum is : \", summ)\n",
    "    for i in range(len):\n",
    "        for j in range(i, len):\n",
    "            if (array[i] + array[j]) == summ:\n",
    "                print((array[i]), (array[j]))\n",
    "\n",
    "\n",
    "array = [5, 2, 3, 4, 1, 6, 7]\n",
    "\n",
    "# Take sum as input from user\n",
    "summ = 7\n",
    "\n",
    "# print array\n",
    "print(\"array =\" ,array)\n",
    "\n",
    "# call function find\n",
    "find(array, len(array), summ)"
   ]
  },
  {
   "cell_type": "code",
   "execution_count": null,
   "metadata": {},
   "outputs": [],
   "source": [
    "Q2. Write a program to reverse an array in place? In place means you cannot create a new array. You have to update the original array."
   ]
  },
  {
   "cell_type": "code",
   "execution_count": null,
   "metadata": {},
   "outputs": [],
   "source": [
    "def reverseList(A, start, end):\n",
    "  while start < end:\n",
    "    A[start], A[end] = A[end], A[start]\n",
    "    start += 1\n",
    "    end -= 1\n",
    "# Driver function to test above function\n",
    "A = [10, 20, 30, 40, 50]\n",
    "reverseList(A, 0, 4)\n",
    "print(A)"
   ]
  },
  {
   "cell_type": "code",
   "execution_count": null,
   "metadata": {},
   "outputs": [],
   "source": [
    "Q3. Write a program to check if two strings are a rotation of each other?"
   ]
  },
  {
   "cell_type": "code",
   "execution_count": null,
   "metadata": {},
   "outputs": [],
   "source": [
    "def solve(s, t):\n",
    "   if len(s) != len(t):\n",
    "      return False\n",
    "   s = s + s\n",
    "   return True if s.find(t) != -1 else False\n",
    "\n",
    "s = \"koLKAta\"\n",
    "t = \"KAtakoL\"\n",
    "print(solve(s, t))"
   ]
  },
  {
   "cell_type": "code",
   "execution_count": null,
   "metadata": {},
   "outputs": [],
   "source": [
    "Q4. Write a program to print the first non-repeated character from a string?"
   ]
  },
  {
   "cell_type": "code",
   "execution_count": null,
   "metadata": {},
   "outputs": [],
   "source": [
    "def first_non_repeating_character(str1):\n",
    "  char_order = []\n",
    "  ctr = {}\n",
    "  for i in str1:\n",
    "    if i in ctr:\n",
    "      ctr[i] += 1\n",
    "    else:\n",
    "      ctr[i] = 1 \n",
    "      char_order.append(i)\n",
    "  for i in char_order:\n",
    "    if ctr[i] == 1:\n",
    "      return i\n",
    "  return None\n",
    "\n",
    "print(first_non_repeating_character('abcdef'))\n",
    "print(first_non_repeating_character('abcabcdef'))\n",
    "print(first_non_repeating_character('aabbcc'))"
   ]
  },
  {
   "cell_type": "code",
   "execution_count": null,
   "metadata": {},
   "outputs": [],
   "source": [
    "Q5. Read about the Tower of Hanoi algorithm. Write a program to implement it."
   ]
  },
  {
   "cell_type": "code",
   "execution_count": null,
   "metadata": {},
   "outputs": [],
   "source": [
    "def TowerOfHanoi(n , source, destination, auxiliary):\n",
    "    if n==1:\n",
    "        print (\"Move disk 1 from source\",source,\"to destination\",destination)\n",
    "        return\n",
    "    TowerOfHanoi(n-1, source, auxiliary, destination)\n",
    "    print (\"Move disk\",n,\"from source\",source,\"to destination\",destination)\n",
    "    TowerOfHanoi(n-1, auxiliary, destination, source)\n",
    "         \n",
    "n = 4\n",
    "TowerOfHanoi(n,'A','B','C')"
   ]
  },
  {
   "cell_type": "code",
   "execution_count": null,
   "metadata": {},
   "outputs": [],
   "source": [
    "Q6. Read about infix, prefix, and postfix expressions. Write a program to convert postfix to prefix expression."
   ]
  },
  {
   "cell_type": "code",
   "execution_count": null,
   "metadata": {},
   "outputs": [],
   "source": [
    "def isOperator(x):\n",
    "\n",
    "\tif x == \"+\":\n",
    "\t\treturn True\n",
    "\n",
    "\tif x == \"-\":\n",
    "\t\treturn True\n",
    "\n",
    "\tif x == \"/\":\n",
    "\t\treturn True\n",
    "\n",
    "\tif x == \"*\":\n",
    "\t\treturn True\n",
    "\n",
    "\treturn False\n",
    "\n",
    "def postToPre(post_exp):\n",
    "\ts = []\n",
    "\tlength = len(post_exp)\n",
    "\tfor i in range(length):\n",
    "\t\tif (isOperator(post_exp[i])):\n",
    "\t\t\top1 = s[-1]\n",
    "\t\t\ts.pop()\n",
    "\t\t\top2 = s[-1]\n",
    "\t\t\ts.pop()\n",
    "\t\t\ttemp = post_exp[i] + op2 + op1\n",
    "\t\t\ts.append(temp)\n",
    "\t\telse:\n",
    "\t\t\ts.append(post_exp[i])\n",
    "\n",
    "\tans = \"\"\n",
    "\tfor i in s:\n",
    "\t\tans += i\n",
    "\treturn ans\n",
    "\n",
    "if __name__ == \"__main__\":\n",
    "\tpost_exp = \"AB+CD-\"\n",
    "\tprint(\"Prefix : \", postToPre(post_exp))"
   ]
  },
  {
   "cell_type": "code",
   "execution_count": null,
   "metadata": {},
   "outputs": [],
   "source": [
    "Q7. Write a program to convert prefix expression to infix expression."
   ]
  },
  {
   "cell_type": "code",
   "execution_count": null,
   "metadata": {},
   "outputs": [],
   "source": [
    "def prefixToInfix(prefix):\n",
    "\tstack = []\n",
    "\ti = len(prefix) - 1\n",
    "\twhile i >= 0:\n",
    "\t\tif not isOperator(prefix[i]):\n",
    "\t\t\tstack.append(prefix[i])\n",
    "\t\t\ti -= 1\n",
    "\t\telse:\n",
    "\t\t\tstr = \"(\" + stack.pop() + prefix[i] + stack.pop() + \")\"\n",
    "\t\t\tstack.append(str)\n",
    "\t\t\ti -= 1\n",
    "\t\n",
    "\treturn stack.pop()\n",
    "\n",
    "def isOperator(c):\n",
    "\tif c == \"*\" or c == \"+\" or c == \"-\" or c == \"/\" or c == \"^\" or c == \"(\" or c == \")\":\n",
    "\t\treturn True\n",
    "\telse:\n",
    "\t\treturn False\n",
    "if __name__==\"__main__\":\n",
    "\tstr = \"*-A/BC-/AKL\"\n",
    "\tprint(prefixToInfix(str))"
   ]
  },
  {
   "cell_type": "code",
   "execution_count": null,
   "metadata": {},
   "outputs": [],
   "source": [
    "Q8. Write a program to check if all the brackets are closed in a given code snippet."
   ]
  },
  {
   "cell_type": "code",
   "execution_count": null,
   "metadata": {},
   "outputs": [],
   "source": [
    "def isbalanced(s):\n",
    "    while(len(s)!=0):\n",
    "        s=s.replace('()','')\n",
    "        s=s.replace('[]','')\n",
    "        s=s.replace('{}','')\n",
    "    if(len(s)==0):\n",
    "        return True\n",
    "    else:\n",
    "        return False\n",
    "s=input(\"Enter a string of brackets:\")\n",
    "print(\"Given string is balanced:\",isbalanced(s))"
   ]
  },
  {
   "cell_type": "code",
   "execution_count": null,
   "metadata": {},
   "outputs": [],
   "source": [
    "Q9. Write a program to reverse a stack."
   ]
  },
  {
   "cell_type": "code",
   "execution_count": null,
   "metadata": {},
   "outputs": [],
   "source": [
    "class Stack:\n",
    "\n",
    "\tdef __init__(self):\n",
    "\t\tself.Elements = []\n",
    "\tdef push(self, value):\n",
    "\t\tself.Elements.append(value)\n",
    "\tdef pop(self):\n",
    "\t\treturn self.Elements.pop()\n",
    "\tdef empty(self):\n",
    "\t\treturn self.Elements == []\n",
    "\tdef show(self):\n",
    "\t\tfor value in reversed(self.Elements):\n",
    "\t\t\tprint(value)\n",
    "def BottomInsert(s, value):\n",
    "\tif s.empty():\n",
    "\t\ts.push(value)\n",
    "\telse:\n",
    "\t\tpopped = s.pop()\n",
    "\t\tBottomInsert(s, value)\n",
    "\t\ts.push(popped)\n",
    "def Reverse(s):\n",
    "\tif s.empty():\n",
    "\t\tpass\n",
    "\telse:\n",
    "\t\tpopped = s.pop()\n",
    "\t\tReverse(s)\n",
    "\t\tBottomInsert(s, popped)\n",
    "stk = Stack()\n",
    "\n",
    "stk.push(1)\n",
    "stk.push(2)\n",
    "stk.push(3)\n",
    "stk.push(4)\n",
    "stk.push(5)\n",
    "\n",
    "print(\"Original Stack\")\n",
    "stk.show()\n",
    "\n",
    "print(\"\\nStack after Reversing\")\n",
    "Reverse(stk)\n",
    "stk.show()"
   ]
  },
  {
   "cell_type": "code",
   "execution_count": null,
   "metadata": {},
   "outputs": [],
   "source": [
    "Q10. Write a program to find the smallest number using a stack."
   ]
  },
  {
   "cell_type": "code",
   "execution_count": null,
   "metadata": {},
   "outputs": [],
   "source": [
    "class Node:\n",
    "\tdef __init__(self, value):\n",
    "\t\tself.value = value\n",
    "\t\tself.next = None\n",
    "\tdef __str__(self):\n",
    "\t\treturn \"Node({})\".format(self.value)\n",
    "\t__repr__ = __str__\n",
    "class Stack:\n",
    "\tdef __init__(self):\n",
    "\t\tself.top = None\n",
    "\t\tself.count = 0\n",
    "\t\tself.minimum = None\n",
    "\tdef __str__(self):\n",
    "\t\ttemp = self.top\n",
    "\t\tout = []\n",
    "\t\twhile temp:\n",
    "\t\t\tout.append(str(temp.value))\n",
    "\t\t\ttemp = temp.next\n",
    "\t\tout = '\\n'.join(out)\n",
    "\t\treturn ('Top {} \\n\\nStack :\\n{}'.format(self.top,out))\n",
    "\t__repr__=__str__\n",
    "\tdef getMin(self):\n",
    "\t\tif self.top is None:\n",
    "\t\t\treturn \"Stack is empty\"\n",
    "\t\telse:\n",
    "\t\t\tprint(\"Minimum Element in the stack is: {}\" .format(self.minimum))\n",
    "\tdef isEmpty(self):\n",
    "\t\tif self.top == None:\n",
    "\t\t\treturn True\n",
    "\t\telse:\n",
    "\t\t\treturn False\n",
    "\tdef __len__(self):\n",
    "\t\tself.count = 0\n",
    "\t\ttempNode = self.top\n",
    "\t\twhile tempNode:\n",
    "\t\t\ttempNode = tempNode.next\n",
    "\t\t\tself.count+=1\n",
    "\t\treturn self.count\n",
    "\tdef peek(self):\n",
    "\t\tif self.top is None:\n",
    "\t\t\tprint (\"Stack is empty\")\n",
    "\t\telse:\n",
    "\t\t\tif self.top.value < self.minimum:\n",
    "\t\t\t\tprint(\"Top Most Element is: {}\" .format(self.minimum))\n",
    "\t\t\telse:\n",
    "\t\t\t\tprint(\"Top Most Element is: {}\" .format(self.top.value))\n",
    "\tdef push(self,value):\n",
    "\t\tif self.top is None:\n",
    "\t\t\tself.top = Node(value)\n",
    "\t\t\tself.minimum = value\n",
    "\t\t\n",
    "\t\telif value < self.minimum:\n",
    "\t\t\ttemp = (2 * value) - self.minimum\n",
    "\t\t\tnew_node = Node(temp)\n",
    "\t\t\tnew_node.next = self.top\n",
    "\t\t\tself.top = new_node\n",
    "\t\t\tself.minimum = value\n",
    "\t\telse:\n",
    "\t\t\tnew_node = Node(value)\n",
    "\t\t\tnew_node.next = self.top\n",
    "\t\t\tself.top = new_node\n",
    "\t\tprint(\"Number Inserted: {}\" .format(value))\n",
    "\tdef pop(self):\n",
    "\t\tif self.top is None:\n",
    "\t\t\tprint( \"Stack is empty\")\n",
    "\t\telse:\n",
    "\t\t\tremovedNode = self.top.value\n",
    "\t\t\tself.top = self.top.next\n",
    "\t\t\tif removedNode < self.minimum:\n",
    "\t\t\t\tprint (\"Top Most Element Removed :{} \" .format(self.minimum))\n",
    "\t\t\t\tself.minimum = ( ( 2 * self.minimum ) - removedNode )\n",
    "\t\t\telse:\n",
    "\t\t\t\tprint (\"Top Most Element Removed : {}\" .format(removedNode))\n",
    "stack = Stack()\n",
    "\n",
    "stack.push(3)\n",
    "stack.push(5)\n",
    "stack.getMin()\n",
    "stack.push(2)\n",
    "stack.push(1)\n",
    "stack.getMin()\t\n",
    "stack.pop()\n",
    "stack.getMin()\n",
    "stack.pop()\n",
    "stack.peek()"
   ]
  }
 ],
 "metadata": {
  "kernelspec": {
   "display_name": "Python 3",
   "language": "python",
   "name": "python3"
  },
  "language_info": {
   "codemirror_mode": {
    "name": "ipython",
    "version": 3
   },
   "file_extension": ".py",
   "mimetype": "text/x-python",
   "name": "python",
   "nbconvert_exporter": "python",
   "pygments_lexer": "ipython3",
   "version": "3.8.5"
  }
 },
 "nbformat": 4,
 "nbformat_minor": 4
}
